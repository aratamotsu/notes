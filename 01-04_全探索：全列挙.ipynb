{
 "cells": [
  {
   "cell_type": "code",
   "execution_count": 1,
   "metadata": {},
   "outputs": [],
   "source": [
    "from io import StringIO\n",
    "import time\n",
    "import sys"
   ]
  },
  {
   "cell_type": "markdown",
   "metadata": {},
   "source": [
    "## 1. ITP1_7_B - How Many Ways?\n",
    "リンクは、[ここ](http://judge.u-aizu.ac.jp/onlinejudge/description.jsp?id=ITP1_7_B&lang=ja)\n",
    "\n",
    "### 考えたこと\n",
    "まあ全列挙。"
   ]
  },
  {
   "cell_type": "code",
   "execution_count": 10,
   "metadata": {},
   "outputs": [
    {
     "name": "stdout",
     "output_type": "stream",
     "text": [
      "2\n",
      "実行時間: 0.838ms\n"
     ]
    }
   ],
   "source": [
    "_INPUT = \"\"\"\\\n",
    "5 9\n",
    "\"\"\"\n",
    "sys.stdin = StringIO(_INPUT)\n",
    "start_time = time.time()\n",
    "# ------------- ココカラ提出 -------------\n",
    "\n",
    "import sys\n",
    "def f(N, M):    \n",
    "    count = 0\n",
    "    for i in range(1, N+1):\n",
    "        for j in range(i+1, N+1):\n",
    "            for k in range(j+1, N+1):\n",
    "                if i+j+k == M:\n",
    "                    count += 1\n",
    "                \n",
    "    return count\n",
    "\n",
    "if __name__ == '__main__':\n",
    "    N, M = map(int, sys.stdin.readline().split())\n",
    "    print(f(N, M))\n",
    "    \n",
    "# ------------- ココマデ提出 -------------\n",
    "elapsed_time = round(1000 * (time.time() - start_time), 3)\n",
    "print(\"実行時間: {}ms\".format(elapsed_time))"
   ]
  },
  {
   "cell_type": "markdown",
   "metadata": {},
   "source": [
    "## ABC 106 B - 105\n",
    "リンクは[ここ](https://atcoder.jp/contests/abc106/tasks/abc106_b)\n",
    "\n",
    "### 考えたこと\n",
    "約数の個数ってどうやって求めるんだっけ。素因数分解して、それぞれの素因数の指数+1を掛け算していけば約数の個数がでるか。\n",
    "素因数分解はそもそもどうやる？エラトステネスのふるいを、割り切れなくなるまで繰り返せばいいか。"
   ]
  },
  {
   "cell_type": "code",
   "execution_count": 3,
   "metadata": {},
   "outputs": [
    {
     "name": "stdout",
     "output_type": "stream",
     "text": [
      "1\n",
      "実行時間: 0.818ms\n"
     ]
    }
   ],
   "source": [
    "_INPUT = \"\"\"\\\n",
    "105\n",
    "\"\"\"\n",
    "sys.stdin = StringIO(_INPUT)\n",
    "start_time = time.time()\n",
    "\n",
    "# ------------- ココカラ提出 -------------\n",
    "import sys\n",
    "from math import floor, sqrt\n",
    "\n",
    "N = int(sys.stdin.readline().strip())\n",
    "\n",
    "lis = []\n",
    "for num in range(1, N+1):\n",
    "    # 偶数を排除\n",
    "    if num % 2 == 0:\n",
    "        continue\n",
    "\n",
    "    # 約数の個数を設定\n",
    "    res = 1\n",
    "    tmp = num\n",
    "    for i in range(2, floor(sqrt(num))+1):\n",
    "        count = 0\n",
    "        # iで割り切れなくなるまで割る\n",
    "        while tmp % i == 0:\n",
    "            count += 1\n",
    "            tmp = tmp / i\n",
    "        \n",
    "        # 1回以上割れたら、約数の個数の算出のために掛け算\n",
    "        if count > 0:\n",
    "            res *= count+1\n",
    "\n",
    "    if res == 8:\n",
    "        lis.append(num)\n",
    "\n",
    "print(len(lis))\n",
    "\n",
    "# ------------- ココマデ提出 -------------\n",
    "elapsed_time = round(1000 * (time.time() - start_time), 3)\n",
    "print(\"実行時間: {}ms\".format(elapsed_time))"
   ]
  },
  {
   "cell_type": "markdown",
   "metadata": {},
   "source": [
    "### 解いたあと\n",
    "与えられた問題に最適化するのであれば、対象が奇数であることから、2が約数に入ることはなく、`i`のrangeは3からでいい。また3, 5, ... と奇数のみを考えていって、`floor(sqrt(num))`以下の範囲だけ探索すればいい。書き換えたコードはこちら。なお、この方法を__試し割り法__というらしい。"
   ]
  },
  {
   "cell_type": "code",
   "execution_count": 9,
   "metadata": {},
   "outputs": [
    {
     "name": "stdout",
     "output_type": "stream",
     "text": [
      "1\n",
      "実行時間: 0.931ms\n"
     ]
    }
   ],
   "source": [
    "from math import floor, sqrt\n",
    "_INPUT = \"\"\"\\\n",
    "105\n",
    "\"\"\"\n",
    "sys.stdin = StringIO(_INPUT)\n",
    "start_time = time.time()\n",
    "\n",
    "# ------------- ココカラ提出 -------------\n",
    "import sys\n",
    "\n",
    "N = int(sys.stdin.readline().strip())\n",
    "lis = []\n",
    "for num in range(1, N+1):\n",
    "    # 偶数を排除\n",
    "    if num % 2 == 0:\n",
    "        continue\n",
    "\n",
    "    # 約数の個数を設定\n",
    "    res = 1\n",
    "    tmp = num\n",
    "    i = 3\n",
    "    while i <= floor(sqrt(num)):\n",
    "        # iで割り切れた回数をカウント\n",
    "        count = 0\n",
    "\n",
    "        # iで割り切れなくなるまで割る\n",
    "        while tmp % i == 0:\n",
    "            count += 1\n",
    "            tmp = tmp / i\n",
    "        \n",
    "        # 1回以上割れたら、約数の個数の算出のために掛け算\n",
    "        if count > 0:\n",
    "            res *= count+1\n",
    "        \n",
    "        # 次の奇数へ\n",
    "        i += 2\n",
    "        \n",
    "    if res == 8:\n",
    "        lis.append(num)\n",
    "\n",
    "print(len(lis))\n",
    "\n",
    "# ------------- ココマデ提出 -------------\n",
    "elapsed_time = round(1000 * (time.time() - start_time), 3)\n",
    "print(\"実行時間: {}ms\".format(elapsed_time))"
   ]
  },
  {
   "cell_type": "markdown",
   "metadata": {},
   "source": [
    "あれ、待てよ、そもそも素因数分解なんてしなくても、与えられた数を割り切れるかどうか3から2で割った数まで確かめて、6とイコールか確認すればいいだけなのではないか？任意の数は、1とその数自身で割り切れるし、例外である1は、題意からして排除しても問題なさそうだし。"
   ]
  },
  {
   "cell_type": "code",
   "execution_count": 5,
   "metadata": {},
   "outputs": [
    {
     "name": "stdout",
     "output_type": "stream",
     "text": [
      "1\n",
      "実行時間: 0.43ms\n"
     ]
    }
   ],
   "source": [
    "_INPUT = \"\"\"\\\n",
    "105\n",
    "\"\"\"\n",
    "sys.stdin = StringIO(_INPUT)\n",
    "start_time = time.time()\n",
    "# ------------- ココカラ提出 -------------\n",
    "import sys\n",
    "\n",
    "def count_yakusu(num):\n",
    "    # 1の場合は例外\n",
    "    if num == 1:\n",
    "        return 1\n",
    "    \n",
    "    # 割り切れるか判定していく\n",
    "    count = 0\n",
    "    for i in range(2, int(num / 2) + 1):\n",
    "        if num % i == 0:\n",
    "            count += 1\n",
    "            \n",
    "    # 1とその数自身を足してあげて返す。\n",
    "    return count + 2\n",
    "\n",
    "N = int(sys.stdin.readline().strip())\n",
    "lis = [count_yakusu(num) == 8 for num in range(1, N+1, 2)]\n",
    "print(sum(lis))\n",
    "\n",
    "# ------------- ココマデ提出 -------------\n",
    "elapsed_time = round(1000 * (time.time() - start_time), 3)\n",
    "print(\"実行時間: {}ms\".format(elapsed_time))"
   ]
  },
  {
   "cell_type": "markdown",
   "metadata": {},
   "source": [
    "コードが短くなった。ついでに与えられた数の約数の個数を求める部分を関数化してあげた。\n",
    "\n",
    "（手計算で答えを求めることが前提の）数学の問題に対する解法と、プログラムで答えを求める解法は必ずしも一致しないという教訓を得た。"
   ]
  },
  {
   "cell_type": "markdown",
   "metadata": {},
   "source": [
    "## ABC 122 B - ATCoder\n",
    "問題は[ここ](https://atcoder.jp/contests/abc122/tasks/abc122_b)\n",
    "\n",
    "### 考えたこと\n",
    "線形探索をするのだろうけど、その線形探索の回数をどれだけ少なくできるかが肝心か。\n",
    "\n",
    "文字列の長さと同じ大きさのリストを作り0で初期化する。先頭の文字から調べて、acgtに一致していれば、リストの一つ前の数字に1を足した数字に更新する。リストの最大値を取得すれば、それが最長のあcgt部分文字列になる。"
   ]
  },
  {
   "cell_type": "code",
   "execution_count": 6,
   "metadata": {},
   "outputs": [
    {
     "name": "stdout",
     "output_type": "stream",
     "text": [
      "3\n",
      "実行時間: 0.279ms\n"
     ]
    }
   ],
   "source": [
    "_INPUT = \"\"\"\\\n",
    "ATCODER\n",
    "\"\"\"\n",
    "sys.stdin = StringIO(_INPUT)\n",
    "start_time = time.time()\n",
    "# ------------- ココカラ提出 -------------\n",
    "import sys\n",
    "\n",
    "def acgt_len(string):\n",
    "    lis = [0]*len(string)\n",
    "    acgt = \"ACGT\"\n",
    "    for i in range(len(string)):\n",
    "        if i == 1:\n",
    "            if string[i] in acgt:\n",
    "                lis[i] = 1\n",
    "\n",
    "        if string[i] in acgt:\n",
    "            lis[i] = lis[i-1] + 1\n",
    "        \n",
    "    return(max(lis))\n",
    "\n",
    "string = str(sys.stdin.readline().strip())\n",
    "print(acgt_len(string))\n",
    "\n",
    "# ------------- ココマデ提出 -------------\n",
    "elapsed_time = round(1000 * (time.time() - start_time), 3)\n",
    "print(\"実行時間: {}ms\".format(elapsed_time))"
   ]
  },
  {
   "cell_type": "markdown",
   "metadata": {},
   "source": [
    "## パ研合宿2019　第3日 C - カラオケ\n",
    "問題は[ここ](https://atcoder.jp/contests/pakencamp-2019-day3/tasks/pakencamp_2019_day3_c)\n",
    "\n",
    "うーん、特に考えることはなく、漏れのないように計算するだけだと思われ。"
   ]
  },
  {
   "cell_type": "code",
   "execution_count": 7,
   "metadata": {},
   "outputs": [
    {
     "name": "stdout",
     "output_type": "stream",
     "text": [
      "250\n",
      "実行時間: 0.241ms\n"
     ]
    }
   ],
   "source": [
    "_INPUT = \"\"\"\\\n",
    "3 4\n",
    "37 29 70 41\n",
    "85 69 76 50\n",
    "53 10 95 100\n",
    "\"\"\"\n",
    "sys.stdin = StringIO(_INPUT)\n",
    "start_time = time.time()\n",
    "# ------------- ココカラ提出 -------------\n",
    "import sys\n",
    "\n",
    "N, M = map(int,sys.stdin.readline().split()) \n",
    "A = [list(map(int, sys.stdin.readline().split())) for l in range(N)]\n",
    "\n",
    "res = 0\n",
    "for i in range(M):\n",
    "    for j in range(i+1, M):\n",
    "        scores = [max(A[k][i], A[k][j]) for k in range(N)]\n",
    "        res = max(res, sum(scores))\n",
    "\n",
    "print(res)\n",
    "\n",
    "# ------------- ココマデ提出 -------------\n",
    "elapsed_time = round(1000 * (time.time() - start_time), 3)\n",
    "print(\"実行時間: {}ms\".format(elapsed_time))"
   ]
  }
 ],
 "metadata": {
  "kernelspec": {
   "display_name": "Python 3",
   "language": "python",
   "name": "python3"
  },
  "language_info": {
   "codemirror_mode": {
    "name": "ipython",
    "version": 3
   },
   "file_extension": ".py",
   "mimetype": "text/x-python",
   "name": "python",
   "nbconvert_exporter": "python",
   "pygments_lexer": "ipython3",
   "version": "3.8.5"
  }
 },
 "nbformat": 4,
 "nbformat_minor": 4
}
