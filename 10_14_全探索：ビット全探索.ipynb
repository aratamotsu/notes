{
  "nbformat": 4,
  "nbformat_minor": 0,
  "metadata": {
    "kernelspec": {
      "display_name": "Python 3",
      "language": "python",
      "name": "python3"
    },
    "language_info": {
      "codemirror_mode": {
        "name": "ipython",
        "version": 3
      },
      "file_extension": ".py",
      "mimetype": "text/x-python",
      "name": "python",
      "nbconvert_exporter": "python",
      "pygments_lexer": "ipython3",
      "version": "3.8.5"
    },
    "colab": {
      "name": "10-14_全探索：ビット全探索.ipynb",
      "provenance": []
    }
  },
  "cells": [
    {
      "cell_type": "markdown",
      "metadata": {
        "id": "893tTgsXzJWg"
      },
      "source": [
        "# 全探索：ビット全探索"
      ]
    },
    {
      "cell_type": "code",
      "metadata": {
        "id": "OcSMs4nczJWj"
      },
      "source": [
        "from io import StringIO\n",
        "import time\n",
        "import sys"
      ],
      "execution_count": null,
      "outputs": []
    },
    {
      "cell_type": "markdown",
      "metadata": {
        "id": "SDG4TxqlzJWj"
      },
      "source": [
        "## 10. ALDS_5_A - 総当たり\n",
        "問題は[ここ](http://judge.u-aizu.ac.jp/onlinejudge/description.jsp?id=ALDS1_5_A&lang=ja)\n",
        "\n",
        "### 考えたこと\n",
        "ただのbit探索。いろいろと方法はるけれど、問題のカテゴリ通りbit探索で解いてみる。"
      ]
    },
    {
      "cell_type": "code",
      "metadata": {
        "id": "G1A1S2DFzJWk",
        "outputId": "484e94cf-1732-4b50-fd30-a8683ac5e78c"
      },
      "source": [
        "_INPUT = \"\"\"\\\n",
        "5\n",
        "1 5 7 10 21\n",
        "4\n",
        "2 4 17 8\n",
        "\"\"\"\n",
        "sys.stdin = StringIO(_INPUT)\n",
        "start_time = time.time()\n",
        "# ------------- ココカラ提出 -------------\n",
        "import sys\n",
        "\n",
        "N = int(sys.stdin.readline().strip())\n",
        "A =  list(map(int, sys.stdin.readline().split()))\n",
        "M = int(sys.stdin.readline().strip())\n",
        "Q =  list(map(int, sys.stdin.readline().split()))\n",
        "\n",
        "for k in range(M):\n",
        "    # フラグの初期化\n",
        "    flag = \"no\"\n",
        "    \n",
        "    for i in range(2**N):\n",
        "        res = 0\n",
        "        for j in range(N):\n",
        "            # j番目のbitが1だったら足していく\n",
        "            if (i >> j) & 1:\n",
        "                 res += A[j]\n",
        "\n",
        "        if res == Q[k]:\n",
        "            # 見つかったらフラグを更新しforループを抜ける\n",
        "            flag = \"yes\"\n",
        "            break\n",
        "    \n",
        "    # 結果を表示\n",
        "    print(flag)\n",
        "\n",
        "# ------------- ココマデ提出 -------------\n",
        "elapsed_time = round(1000 * (time.time() - start_time), 3)\n",
        "print(\"実行時間: {}ms\".format(elapsed_time))"
      ],
      "execution_count": null,
      "outputs": [
        {
          "output_type": "stream",
          "text": [
            "no\n",
            "no\n",
            "yes\n",
            "yes\n",
            "実行時間: 1.183ms\n"
          ],
          "name": "stdout"
        }
      ]
    },
    {
      "cell_type": "markdown",
      "metadata": {
        "id": "_Lory3uszJWl"
      },
      "source": [
        "## 11. ABC 128 C - Switches\n",
        "問題は[ここ](https://atcoder.jp/contests/abc128/tasks/abc128_c)\n",
        "\n",
        "### 考えたこと\n",
        "全てのスイッチの場合において、全ての電球が点灯する場合を求めればいい。最初の標準入力をどう読み取るかで一瞬悩む。"
      ]
    },
    {
      "cell_type": "code",
      "metadata": {
        "id": "_g-sXaHXzJWl",
        "outputId": "1dbc35d7-66e6-4784-f41f-fd260e761e54"
      },
      "source": [
        "_INPUT = \"\"\"\\\n",
        "5 2\n",
        "3 1 2 5\n",
        "2 2 3\n",
        "1 0\n",
        "\"\"\"\n",
        "sys.stdin = StringIO(_INPUT)\n",
        "start_time = time.time()\n",
        "# ------------- ココカラ提出 -------------\n",
        "import sys\n",
        "N,M = tuple(map(int, sys.stdin.readline().split()))\n",
        "k = []\n",
        "s = {}\n",
        "for i in range(M):\n",
        "    tmp = list(map(int, sys.stdin.readline().split()))\n",
        "    k.append(tmp[0])\n",
        "    s[i] = tmp[1:]\n",
        "p =  list(map(int, sys.stdin.readline().split()))\n",
        "\n",
        "count = 0\n",
        "for j in range(2**N):\n",
        "    flag = True\n",
        "    for i in range(M):\n",
        "        on_sw = sum([(j >> (s[i][l]-1) & 1) for l in range(k[i])])\n",
        "        \n",
        "        # オンにならない電球が見つかったらループを抜ける\n",
        "        if on_sw % 2 != p[i]:\n",
        "            flag = False\n",
        "            break\n",
        "            \n",
        "    if flag:\n",
        "        count += 1\n",
        "        \n",
        "print(count)\n",
        "\n",
        "# ------------- ココマデ提出 -------------\n",
        "elapsed_time = round(1000 * (time.time() - start_time), 3)\n",
        "print(\"実行時間: {}ms\".format(elapsed_time))"
      ],
      "execution_count": null,
      "outputs": [
        {
          "output_type": "stream",
          "text": [
            "8\n",
            "実行時間: 2.261ms\n"
          ],
          "name": "stdout"
        }
      ]
    },
    {
      "cell_type": "markdown",
      "metadata": {
        "id": "YaJQ4hyqzJWm"
      },
      "source": [
        "## 12. ABC 002 D - 派閥\n",
        "問題は[ここ](https://atcoder.jp/contests/abc002/tasks/abc002_4)\n",
        "\n",
        "### 考えたこと\n",
        "なんか工夫のしがいがありそうな気もしつつ、思いつかない。問題のサイズ的には無理矢理解いてしまっても間に合いそうなので、試してみる。人のラベルが1始まりなところが注意"
      ]
    },
    {
      "cell_type": "code",
      "metadata": {
        "id": "Xjbv2zt9zJWn",
        "outputId": "2a0713cc-8a5f-4e04-a145-3918164d16ae"
      },
      "source": [
        "_INPUT = \"\"\"\\\n",
        "5 3\n",
        "1 2\n",
        "2 3\n",
        "1 3\n",
        "\"\"\"\n",
        "sys.stdin = StringIO(_INPUT)\n",
        "start_time = time.time()\n",
        "# ------------- ココカラ提出 -------------\n",
        "import sys\n",
        "import itertools\n",
        "\n",
        "N,M = tuple(map(int, sys.stdin.readline().split()))\n",
        "pairs = set(tuple(map(int, sys.stdin.readline().split())) for _ in range(M))\n",
        "#set_pairs = set(pairs)\n",
        "\n",
        "size = 1\n",
        "for i in range(2**N):\n",
        "    # j番目のbitが1だったら足していく\n",
        "    gp = [j+1 for j in range(N) if (i >> j) & 1]\n",
        "    \n",
        "    # グループの全てのコンビを生成\n",
        "    combi = set(itertools.combinations(gp, 2))\n",
        "    \n",
        "    if combi <= pairs:\n",
        "        # ペアの部分集合であれば、派閥のサイズを返す。\n",
        "        if size < len(gp):\n",
        "            size = len(gp)\n",
        "                \n",
        "print(size)\n",
        "\n",
        "# ------------- ココマデ提出 -------------\n",
        "elapsed_time = round(1000 * (time.time() - start_time), 3)\n",
        "print(\"実行時間: {}ms\".format(elapsed_time))"
      ],
      "execution_count": null,
      "outputs": [
        {
          "output_type": "stream",
          "text": [
            "3\n",
            "実行時間: 1.005ms\n"
          ],
          "name": "stdout"
        }
      ]
    },
    {
      "cell_type": "markdown",
      "metadata": {
        "id": "DyC0RlSSzJWn"
      },
      "source": [
        "### 解いたあと\n",
        "この問題は、[最大クリーク問題](https://ja.wikipedia.org/wiki/最大クリーク問題)といって、NP困難だそうです。工夫のしがいがありそうとか適当なことを言ってはいけない。"
      ]
    },
    {
      "cell_type": "markdown",
      "metadata": {
        "id": "LDtlvH_RzJWn"
      },
      "source": [
        "## 13. JOI 2008 予選 5 - おせんべい\n",
        "\n",
        "問題は[ここ](https://atcoder.jp/contests/joi2008yo/tasks/joi2008yo_e)\n",
        "\n",
        "### 考えたこと\n",
        "真面目に10分くらい悩んだ。ヒントは確かにヒントだった。どこをbit探索するか、というところが問題。\n",
        "\n",
        "ヒント：ある列で生産できるせんべいの数 = max(その列で表の数、その列で裏の数)"
      ]
    },
    {
      "cell_type": "code",
      "metadata": {
        "id": "XW7j4uGTzJWn",
        "outputId": "25f97bce-9a97-4920-bfe2-dceb8a641984"
      },
      "source": [
        "_INPUT = \"\"\"\\\n",
        "3 6\n",
        "1 0 0 0 1 0\n",
        "1 1 1 0 1 0\n",
        "1 0 1 1 0 1\n",
        "\"\"\"\n",
        "sys.stdin = StringIO(_INPUT)\n",
        "start_time = time.time()\n",
        "# ------------- ココカラ提出 -------------\n",
        "import sys\n",
        "import numpy as np\n",
        "\n",
        "R, C = tuple(map(int, sys.stdin.readline().split()))\n",
        "A = np.array([list(map(int, sys.stdin.readline().split())) for _ in range(R)])\n",
        "\n",
        "semb = 0\n",
        "for i in range(2**R):\n",
        "    A_t = A^np.array([[i>>j&1 for j in range(R)]]).T\n",
        "    \n",
        "    x = A_t.sum(axis=0)\n",
        "    res = sum(np.maximum(x, R-x))\n",
        "    \n",
        "    semb = max(semb, res)\n",
        "    \n",
        "print(semb)\n",
        "\n",
        "# ------------- ココマデ提出 -------------\n",
        "elapsed_time = round(1000 * (time.time() - start_time), 3)\n",
        "print(\"実行時間: {}ms\".format(elapsed_time))"
      ],
      "execution_count": null,
      "outputs": [
        {
          "output_type": "stream",
          "text": [
            "15\n",
            "実行時間: 325.772ms\n"
          ],
          "name": "stdout"
        }
      ]
    },
    {
      "cell_type": "markdown",
      "metadata": {
        "id": "EvAT9oEDzJWo"
      },
      "source": [
        "### 解いたあと\n",
        "なぜか実装で非常に苦労した。愚直に書き過ぎたら遅過ぎたし、何故か3と5WAになってしまい、バグとりがなぜかすすまず...最終的にはnumpyを使ってしまった。"
      ]
    },
    {
      "cell_type": "markdown",
      "metadata": {
        "id": "xwiL_u16zJWo"
      },
      "source": [
        "## 14. Square869120Contest #4 B - Buildings are Colorful!\n",
        "問題は[ここ](https://atcoder.jp/contests/s8pc-4/tasks/s8pc_4_b)\n",
        "\n",
        "### 考えたこと\n",
        "左から最大値を更新していく。"
      ]
    },
    {
      "cell_type": "code",
      "metadata": {
        "id": "eQuYpeASzJWo",
        "outputId": "da72d571-f34f-444f-a4cd-2707a4c33255"
      },
      "source": [
        "_INPUT = \"\"\"\\\n",
        "5 5\n",
        "3949 3774 3598 3469 3424\n",
        "\"\"\"\n",
        "sys.stdin = StringIO(_INPUT)\n",
        "start_time = time.time()\n",
        "# ------------- ココカラ提出 -------------\n",
        "import sys\n",
        "import itertools\n",
        "\n",
        "N, M = tuple(map(int, sys.stdin.readline().split()))\n",
        "A = list(map(int, sys.stdin.readline().split()))\n",
        "\n",
        "res = M * 10**9 + 1\n",
        "\n",
        "for towers in itertools.combinations(range(1, N), M-1):\n",
        "    cost = 0\n",
        "    max_c = 0\n",
        "    for i in range(N):\n",
        "        if i in towers:\n",
        "            if A[i] <= max_c:\n",
        "                cost += max_c + 1 - A[i]\n",
        "                max_c += 1\n",
        "        if A[i] > max_c:\n",
        "            max_c = A[i]\n",
        "\n",
        "    res = min(res, cost)\n",
        "\n",
        "print(res)\n",
        "\n",
        "# ------------- ココマデ提出 -------------\n",
        "elapsed_time = round(1000 * (time.time() - start_time), 3)\n",
        "print(\"実行時間: {}ms\".format(elapsed_time))"
      ],
      "execution_count": null,
      "outputs": [
        {
          "output_type": "stream",
          "text": [
            "1541\n",
            "実行時間: 0.268ms\n"
          ],
          "name": "stdout"
        }
      ]
    },
    {
      "cell_type": "markdown",
      "metadata": {
        "id": "pR8TrWcZzJWp"
      },
      "source": [
        "### 解いた後\n",
        "最終的に求める最小金額の初期値が小さかったようで、2時間ほど溶かしてしまった。悲しい。入力が意地悪すぎたが、確かに問題文には条件が書いてある...しっかり読んで実装しなかった自分が悪いか。"
      ]
    }
  ]
}