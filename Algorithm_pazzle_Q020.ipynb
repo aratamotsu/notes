{
 "cells": [
  {
   "cell_type": "markdown",
   "metadata": {},
   "source": [
    "[アルゴリズムパズル ―プログラマのための数学パズル入門](https://www.amazon.co.jp/dp/4873116694)を読んでいて、[問題解決力を鍛える!アルゴリズムとデータ構造](https://www.amazon.co.jp/dp/4065128447)で勉強していることを試してみるのにちょうどいい問題があったので、実装してみた。\n",
    "\n",
    "#### 問題20\n",
    ">正の整数が三角形状に配置されている。この三角形の頂点から初めて、それぞれの回想で直前に選んだ数字と隣接する１つの数字を選びながらふもとまで降下していくときに、たどった数字を合計したあたいの最大値を求めるアルゴリズムを設計せよ（もちろん、全探索よりも効率的であること）。\n",
    "\n",
    "なお、ブログの記事は[こちら](https://aratamotsu.hatenadiary.com/entry/2020/12/25/174902)。"
   ]
  },
  {
   "cell_type": "code",
   "execution_count": 1,
   "metadata": {},
   "outputs": [],
   "source": [
    "import random\n",
    "import time\n",
    "from collections import deque\n",
    "import math\n",
    "import pandas as pd\n",
    "from heapq import heappop, heappush"
   ]
  },
  {
   "cell_type": "markdown",
   "metadata": {},
   "source": [
    "## ちょっとした関数とグラフの作成 "
   ]
  },
  {
   "cell_type": "code",
   "execution_count": 2,
   "metadata": {},
   "outputs": [],
   "source": [
    "# i段目の左からj番目のnodeの全体での順序を返す関数\n",
    "def to_index(i, j):\n",
    "    return int(i * (i + 1) / 2 + j)\n",
    "\n",
    "# n番目のノードが上から何番目の階層にいるのかを返す関数。\n",
    "def to_layer(N):\n",
    "    return math.floor((-1 + math.sqrt(1 + 8 * N)) / 2 ) \n",
    "\n",
    "def my_graph(N):\n",
    "    G = []\n",
    "    for i in range(N):\n",
    "        for j in range(i+1):\n",
    "            if i < N -1:\n",
    "                # i段目の左からj番目のnodeはi+1段目のj番目とj+1番目のnodeへのedgeを持つ\n",
    "                G.append([to_index(i+1, j), to_index(i+1, j+1)])\n",
    "            else:\n",
    "                # 最後の段にあるnodeは、行き先となるedgesを持たない\n",
    "                G.append([]) \n",
    "                \n",
    "    # nodeの総数\n",
    "    total_node = to_index(N-1, N-1)\n",
    "\n",
    "    # 各nodeで得られるスコアを設定\n",
    "    #node_score = [random.choice([0, 10]) for i in range(total_node + 1)]\n",
    "    node_score = [random.randint(1, 10)  for i in range(total_node + 1)]\n",
    "\n",
    "    return G, node_score"
   ]
  },
  {
   "cell_type": "markdown",
   "metadata": {},
   "source": [
    "## 全探索の実装"
   ]
  },
  {
   "cell_type": "code",
   "execution_count": 3,
   "metadata": {},
   "outputs": [],
   "source": [
    "# 全探索を全探索で実装してみる。\n",
    "def all_search(G, N):\n",
    "    start = time.time()\n",
    "    result = -1\n",
    "    for i in range(2**(N-1)):\n",
    "        # ビット列に従い、左右をたどっていく\n",
    "        current_node = 0 # 最初のnode\n",
    "        score = node_score[current_node] # 最初のnodeのscoreを足しておく\n",
    "        \n",
    "        for j in range(N-1):\n",
    "            current_node = G[current_node][(i >> j) & 1] # 次のnodeへ移動\n",
    "            score = score + node_score[current_node] # 移動したらscoreを足す\n",
    "        \n",
    "        result = max(result, score) # 最終的なscoreがこれまでのものより大きければ更新する\n",
    "\n",
    "    return result, time.time() - start"
   ]
  },
  {
   "cell_type": "markdown",
   "metadata": {},
   "source": [
    "## 動的計画法の実装"
   ]
  },
  {
   "cell_type": "code",
   "execution_count": 4,
   "metadata": {},
   "outputs": [],
   "source": [
    "def DP(G, method = \"DFS\"):\n",
    "    start = time.time()\n",
    "\n",
    "    # 各nodeの結果を記録する\n",
    "    node_result = {i : -1 for i in range(len(G))}\n",
    "\n",
    "    # stackに最初のnodeを追加\n",
    "    stack = deque([0])\n",
    "    node_result[0] = node_score[0]\n",
    "\n",
    "    result = 0\n",
    "\n",
    "    while(stack):\n",
    "        if method == \"DFS\":\n",
    "            c_node = stack.pop()\n",
    "        else:\n",
    "            c_node = stack.popleft()\n",
    "        for n_node in G[c_node]:\n",
    "            if node_result[c_node] + node_score[n_node] > node_result[n_node]:\n",
    "                # node_result[n_node] = max(node_result[n_node], node_result[c_node] + node_score[n_node]) \n",
    "                node_result[n_node] = node_result[c_node] + node_score[n_node]\n",
    "                stack.append(n_node)\n",
    "                result = max(result, node_result[n_node])\n",
    "\n",
    "    return result, time.time() - start"
   ]
  },
  {
   "cell_type": "markdown",
   "metadata": {},
   "source": [
    "## 動的計画法に加えて枝刈りを入れる"
   ]
  },
  {
   "cell_type": "code",
   "execution_count": 5,
   "metadata": {},
   "outputs": [],
   "source": [
    "def DP_cut(G, method = \"DFS\"):\n",
    "    start = time.time()\n",
    "\n",
    "    # 各nodeの結果を記録する\n",
    "    node_result = {i : -1 for i in range(len(G))}\n",
    "\n",
    "    # stackに最初のnodeを追加\n",
    "    stack = deque([0])\n",
    "    node_result[0] = node_score[0]\n",
    "\n",
    "    result = 0\n",
    "    cut = 0\n",
    "    \n",
    "    while(stack):\n",
    "        if method == \"DFS\":\n",
    "            c_node = stack.pop()\n",
    "        else:\n",
    "            c_node = stack.popleft()\n",
    "\n",
    "        for n_node in G[c_node]:\n",
    "            if node_result[c_node] + node_score[n_node] > node_result[n_node]:\n",
    "                node_result[n_node] = node_result[c_node] + node_score[n_node]\n",
    "                if (node_result[n_node] + (N - 1 - to_layer(n_node)) * 10) > result:\n",
    "                    stack.append(n_node)\n",
    "                    result = max(result, node_result[n_node])\n",
    "                else:\n",
    "                    cut = cut + 1\n",
    "    \n",
    "    #print(cut)\n",
    "    return result, time.time() - start"
   ]
  },
  {
   "cell_type": "markdown",
   "metadata": {},
   "source": [
    "## ダイクストラ"
   ]
  },
  {
   "cell_type": "code",
   "execution_count": 6,
   "metadata": {},
   "outputs": [],
   "source": [
    "def Dijkstra(G):\n",
    "    start = time.time()\n",
    "\n",
    "    # 各nodeの結果を記録する\n",
    "    node_result = {i : -1 for i in range(len(G))}\n",
    "\n",
    "    # heapに最初のnodeを追加\n",
    "    hp = []\n",
    "    node_result[0] = node_score[0]\n",
    "    heappush(hp, (-node_result[0], 0))\n",
    "    \n",
    "    result = 0\n",
    "    while(hp):\n",
    "        # ヒープからノードを取り出し、\n",
    "        c_node = heappop(hp)[1]\n",
    "        \n",
    "        for n_node in G[c_node]:\n",
    "            # 取り出したノードが向かう先のノードについて、緩和を行う\n",
    "            if node_result[c_node] + node_score[n_node] > node_result[n_node]:\n",
    "                node_result[n_node] = node_result[c_node] + node_score[n_node]\n",
    "                result = max(result, node_result[n_node])\n",
    "                heappush(hp, (-node_result[n_node], n_node))\n",
    "\n",
    "    return result, time.time() - start"
   ]
  },
  {
   "cell_type": "markdown",
   "metadata": {},
   "source": [
    "## ダイクストラに枝刈りを加える"
   ]
  },
  {
   "cell_type": "code",
   "execution_count": 7,
   "metadata": {},
   "outputs": [],
   "source": [
    "def Dijkstra_cut(G):\n",
    "    start = time.time()\n",
    "\n",
    "    # 各nodeの結果を記録する\n",
    "    node_result = {i : -1 for i in range(len(G))}\n",
    "\n",
    "    # heapに最初のnodeを追加\n",
    "    hp = []\n",
    "    node_result[0] = node_score[0]\n",
    "    heappush(hp, (-node_result[0], 0))\n",
    "    \n",
    "    result = 0\n",
    "    cut = 0 # 枝狩りの回数カウント用\n",
    "    while(hp):\n",
    "        # ヒープからノードを取り出し、\n",
    "        c_node = heappop(hp)[1]\n",
    "        \n",
    "        for n_node in G[c_node]:\n",
    "            if node_result[c_node] + node_score[n_node] > node_result[n_node]:\n",
    "                # 取り出したノードが向かう先のノードについて、緩和を行う\n",
    "                node_result[n_node] = node_result[c_node] + node_score[n_node]\n",
    "                \n",
    "                # 枝狩りできるかどうか確認して、枝狩できなければ、ヒープに入れる\n",
    "                if (node_result[n_node] + (N - 1 - to_layer(n_node)) * 10) > result:\n",
    "                    result = max(result, node_result[n_node])\n",
    "                    heappush(hp, (-node_result[n_node], n_node))\n",
    "                else:\n",
    "                    cut = cut + 1\n",
    "    #print(cut)\n",
    "    return result, time.time() - start"
   ]
  },
  {
   "cell_type": "markdown",
   "metadata": {},
   "source": [
    "## 貪欲法も実装してみる\n",
    "問題設定からは明らかだけど、最適解は貪欲法では求められない。"
   ]
  },
  {
   "cell_type": "code",
   "execution_count": 8,
   "metadata": {},
   "outputs": [],
   "source": [
    "def Greeding(G):\n",
    "# nodeの総数\n",
    "    start = time.time()\n",
    "\n",
    "    # stackに最初のnodeを追加\n",
    "    stack = deque([0])\n",
    "    score = 0\n",
    "\n",
    "    while(stack):\n",
    "        c_node = stack.pop()\n",
    "        score = score + node_score[c_node]\n",
    "        \n",
    "        connected_node = G[c_node]\n",
    "        if connected_node:\n",
    "            # まどろっこしいが、一般の有向グラフに適用できるように書いておく\n",
    "            next_scores = [node_score[x] for x in connected_node]\n",
    "            max_score = max(next_scores)\n",
    "            n_node = G[c_node][next_scores.index(max_score)]\n",
    "            stack.append(n_node)\n",
    "        \n",
    "    result = score\n",
    "    return result, time.time() - start"
   ]
  },
  {
   "cell_type": "markdown",
   "metadata": {},
   "source": [
    "## 実行速度を計測してみる\n",
    "全探索は遅くて邪魔なので、コメントアウトしている。"
   ]
  },
  {
   "cell_type": "code",
   "execution_count": 9,
   "metadata": {},
   "outputs": [],
   "source": [
    "# 階層数\n",
    "stairs = 50\n",
    "\n",
    "# それぞれの階層数で、何個のグラフを試してみるか、その個数\n",
    "roup = 100\n",
    "\n",
    "elapsed_time = {}\n",
    "\n",
    "#algorithms = [\"all_search\", \"DP_DFS\", \"DP_BFS\", \"DP_DFS_cut\", \"DP_BFS_cut\", \"Dijkstra\", \"Dijkstra_cut\"]\n",
    "algorithms = [\"DP_DFS\", \"DP_BFS\", \"DP_DFS_cut\", \"DP_BFS_cut\", \"Dijkstra\", \"Dijkstra_cut\"]\n",
    "\n",
    "for algorithm in algorithms:\n",
    "    elapsed_time[algorithm] = []\n",
    "\n",
    "for N in range(1, stairs):\n",
    "    #s_all_search = 0\n",
    "    s_DP_DFS = 0\n",
    "    s_DP_BFS = 0\n",
    "    s_DP_DFS_cut = 0\n",
    "    s_DP_BFS_cut = 0\n",
    "    s_Dijkstra = 0\n",
    "    s_Dijkstra_cut = 0\n",
    "    \n",
    "    start = time.time()\n",
    "    for _ in range(roup):\n",
    "        G, node_score = my_graph(N)\n",
    "        \n",
    "        # 所要時間を足していく\n",
    "        #s_all_search = s_all_search + all_search(G, N)[1]\n",
    "        s_DP_DFS = s_DP_DFS + DP(G)[1]\n",
    "        s_DP_BFS = s_DP_BFS + DP(G, method=\"BFS\")[1]\n",
    "        s_DP_DFS_cut = s_DP_DFS_cut + DP_cut(G)[1]\n",
    "        s_DP_BFS_cut = s_DP_BFS_cut + DP_cut(G, method=\"BFS\")[1]\n",
    "        s_Dijkstra = s_Dijkstra + Dijkstra(G)[1]\n",
    "        s_Dijkstra_cut = s_Dijkstra_cut + Dijkstra_cut(G)[1]\n",
    "\n",
    "    \n",
    "    # 平均処理時間を算出し、log10を取る\n",
    "    #elapsed_time[\"all_search\"].append(s_all_search / roup)\n",
    "    elapsed_time[\"DP_DFS\"].append(s_DP_DFS / roup)\n",
    "    elapsed_time[\"DP_BFS\"].append(s_DP_BFS / roup)\n",
    "    elapsed_time[\"DP_DFS_cut\"].append(s_DP_DFS_cut / roup)\n",
    "    elapsed_time[\"DP_BFS_cut\"].append(s_DP_BFS_cut / roup)\n",
    "    elapsed_time[\"Dijkstra\"].append(s_Dijkstra / roup)\n",
    "    elapsed_time[\"Dijkstra_cut\"].append(s_Dijkstra_cut / roup)\n",
    "\n",
    "    # print(N, time.time() - start)"
   ]
  },
  {
   "cell_type": "code",
   "execution_count": 10,
   "metadata": {},
   "outputs": [
    {
     "data": {
      "text/plain": [
       "<AxesSubplot:>"
      ]
     },
     "execution_count": 10,
     "metadata": {},
     "output_type": "execute_result"
    },
    {
     "data": {
      "text/plain": [
       "<Figure size 432x288 with 0 Axes>"
      ]
     },
     "metadata": {},
     "output_type": "display_data"
    },
    {
     "data": {
      "image/png": "[encoded data removed]",
      "text/plain": [
       "<Figure size 640x480 with 1 Axes>"
      ]
     },
     "metadata": {},
     "output_type": "display_data"
    }
   ],
   "source": [
    "# 計算時間の表示\n",
    "import matplotlib.pyplot as plt\n",
    "%matplotlib inline\n",
    "\n",
    "df = pd.DataFrame(elapsed_time)\n",
    "\n",
    "plt.figure()\n",
    "plt.style.use(['default']) \n",
    "\n",
    "df.applymap(math.sqrt).plot()\n",
    "#plt.savefig('./plot.png', dpi=300)\n",
    "#plt.close('all')"
   ]
  },
  {
   "cell_type": "markdown",
   "metadata": {},
   "source": [
    "## メモ：ヒープ（優先度付きキュー）の復習"
   ]
  },
  {
   "cell_type": "code",
   "execution_count": 4,
   "metadata": {},
   "outputs": [],
   "source": [
    "from heapq import heappop, heappush\n",
    "hp = []\n",
    "heappush(hp, (1, 5))\n",
    "heappush(hp, (2, 4))\n",
    "heappush(hp, (3, 3))\n",
    "heappush(hp, (4, 2))\n",
    "heappush(hp, (5, 1))"
   ]
  },
  {
   "cell_type": "code",
   "execution_count": 11,
   "metadata": {},
   "outputs": [
    {
     "name": "stdout",
     "output_type": "stream",
     "text": [
      "hp is empty\n"
     ]
    }
   ],
   "source": [
    "if hp:\n",
    "    y = heappop(hp)\n",
    "    print(y)\n",
    "else:\n",
    "    print(\"hp is empty\")"
   ]
  }
 ],
 "metadata": {
  "kernelspec": {
   "display_name": "Python 3",
   "language": "python",
   "name": "python3"
  },
  "language_info": {
   "codemirror_mode": {
    "name": "ipython",
    "version": 3
   },
   "file_extension": ".py",
   "mimetype": "text/x-python",
   "name": "python",
   "nbconvert_exporter": "python",
   "pygments_lexer": "ipython3",
   "version": "3.8.5"
  }
 },
 "nbformat": 4,
 "nbformat_minor": 4
}
