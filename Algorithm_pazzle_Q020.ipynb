{
 "cells": [
  {
   "cell_type": "markdown",
   "metadata": {},
   "source": [
    "[アルゴリズムパズル ―プログラマのための数学パズル入門](https://www.amazon.co.jp/dp/4873116694)を読んでいて、[問題解決力を鍛える!アルゴリズムとデータ構造](https://www.amazon.co.jp/dp/4065128447)で勉強していることを試してみるのにちょうどいい問題があったので、実装してみた。\n",
    "\n",
    "#### 問題20\n",
<<<<<<< HEAD
    ">正の整数が三角形状に配置されている。この三角形の頂点から初めて、それぞれの階層で直前に選んだ数字と隣接する１つの数字を選びながらふもとまで降下していくときに、たどった数字を合計したあたいの最大値を求めるアルゴリズムを設計せよ（もちろん、全探索よりも効率的であること）。\n",
=======
    ">正の整数が三角形状に配置されている。この三角形の頂点から初めて、それぞれの回想で直前に選んだ数字と隣接する１つの数字を選びながらふもとまで降下していくときに、たどった数字を合計したあたいの最大値を求めるアルゴリズムを設計せよ（もちろん、全探索よりも効率的であること）。\n",
>>>>>>> 66951a6707dd20981cce799ea5ee95b8af581f1e
    "\n",
    "なお、ブログの記事は[こちら]()。"
   ]
  },
  {
   "cell_type": "code",
<<<<<<< HEAD
   "execution_count": 1,
=======
   "execution_count": 13,
>>>>>>> 66951a6707dd20981cce799ea5ee95b8af581f1e
   "metadata": {},
   "outputs": [],
   "source": [
    "import random\n",
    "import time\n",
    "from collections import deque\n",
    "import math\n",
    "import pandas as pd\n",
    "from heapq import heappop, heappush"
   ]
  },
  {
   "cell_type": "markdown",
   "metadata": {},
   "source": [
    "## ちょっとした関数とグラフの作成 "
   ]
  },
  {
   "cell_type": "code",
<<<<<<< HEAD
   "execution_count": 16,
=======
   "execution_count": 14,
>>>>>>> 66951a6707dd20981cce799ea5ee95b8af581f1e
   "metadata": {},
   "outputs": [],
   "source": [
    "# i段目の左からj番目のnodeの全体での順序を返す関数\n",
    "def to_index(i, j):\n",
    "    return int(i * (i + 1) / 2 + j)\n",
    "\n",
    "# n番目のノードが上から何番目の階層にいるのかを返す関数。\n",
    "def to_layer(N):\n",
    "    return math.floor((-1 + math.sqrt(1 + 8 * N)) / 2 ) \n",
    "\n",
    "def my_graph(N):\n",
    "    G = []\n",
    "    for i in range(N):\n",
    "        for j in range(i+1):\n",
    "            if i < N -1:\n",
    "                # i段目の左からj番目のnodeはi+1段目のj番目とj+1番目のnodeへのedgeを持つ\n",
    "                G.append([to_index(i+1, j), to_index(i+1, j+1)])\n",
    "            else:\n",
    "                # 最後の段にあるnodeは、行き先となるedgesを持たない\n",
    "                G.append([]) \n",
    "                \n",
    "    # nodeの総数\n",
    "    total_node = to_index(N-1, N-1)\n",
    "\n",
    "    # 各nodeで得られるスコアを設定\n",
<<<<<<< HEAD
    "    #node_score = [random.choice([0, 10]) for i in range(total_node + 1)]\n",
    "    node_score = [random.randint(1, 10)  for i in range(total_node + 1)]\n",
=======
    "    node_score = [random.choice([0, 10]) for i in range(total_node + 1)]\n",
    "    #node_score = [random.randint(1, 10)  for i in range(total_node + 1)]\n",
>>>>>>> 66951a6707dd20981cce799ea5ee95b8af581f1e
    "\n",
    "    return G, node_score"
   ]
  },
  {
   "cell_type": "markdown",
   "metadata": {},
   "source": [
    "## 全探索の実装"
   ]
  },
  {
   "cell_type": "code",
<<<<<<< HEAD
   "execution_count": 3,
=======
   "execution_count": 15,
>>>>>>> 66951a6707dd20981cce799ea5ee95b8af581f1e
   "metadata": {},
   "outputs": [],
   "source": [
    "# 全探索を全探索で実装してみる。\n",
    "def all_search(G, N):\n",
    "    start = time.time()\n",
    "    result = -1\n",
    "    for i in range(2**(N-1)):\n",
    "        # ビット列に従い、左右をたどっていく\n",
    "        current_node = 0 # 最初のnode\n",
    "        score = node_score[current_node] # 最初のnodeのscoreを足しておく\n",
    "        \n",
    "        for j in range(N-1):\n",
    "            current_node = G[current_node][(i >> j) & 1] # 次のnodeへ移動\n",
    "            score = score + node_score[current_node] # 移動したらscoreを足す\n",
    "        \n",
    "        result = max(result, score) # 最終的なscoreがこれまでのものより大きければ更新する\n",
    "\n",
    "    return result, time.time() - start"
   ]
  },
  {
   "cell_type": "markdown",
   "metadata": {},
   "source": [
    "## 動的計画法の実装"
   ]
  },
  {
   "cell_type": "code",
<<<<<<< HEAD
   "execution_count": 4,
=======
   "execution_count": 16,
>>>>>>> 66951a6707dd20981cce799ea5ee95b8af581f1e
   "metadata": {},
   "outputs": [],
   "source": [
    "def DP(G, method = \"DFS\"):\n",
    "    start = time.time()\n",
    "\n",
    "    # 各nodeの結果を記録する\n",
    "    node_result = {i : -1 for i in range(len(G))}\n",
    "\n",
    "    # stackに最初のnodeを追加\n",
    "    stack = deque([0])\n",
    "    node_result[0] = node_score[0]\n",
    "\n",
    "    result = 0\n",
    "\n",
    "    while(stack):\n",
    "        if method == \"DFS\":\n",
    "            c_node = stack.pop()\n",
    "        else:\n",
    "            c_node = stack.popleft()\n",
    "        for n_node in G[c_node]:\n",
    "            if node_result[c_node] + node_score[n_node] > node_result[n_node]:\n",
    "                # node_result[n_node] = max(node_result[n_node], node_result[c_node] + node_score[n_node]) \n",
    "                node_result[n_node] = node_result[c_node] + node_score[n_node]\n",
    "                stack.append(n_node)\n",
    "                result = max(result, node_result[n_node])\n",
    "\n",
    "    return result, time.time() - start"
   ]
  },
  {
   "cell_type": "markdown",
   "metadata": {},
   "source": [
    "## 動的計画法に加えて枝刈りを入れる"
   ]
  },
  {
   "cell_type": "code",
<<<<<<< HEAD
   "execution_count": 5,
=======
   "execution_count": 17,
>>>>>>> 66951a6707dd20981cce799ea5ee95b8af581f1e
   "metadata": {},
   "outputs": [],
   "source": [
    "def DP_cut(G, method = \"DFS\"):\n",
    "    start = time.time()\n",
    "\n",
    "    # 各nodeの結果を記録する\n",
    "    node_result = {i : -1 for i in range(len(G))}\n",
    "\n",
    "    # stackに最初のnodeを追加\n",
    "    stack = deque([0])\n",
    "    node_result[0] = node_score[0]\n",
    "\n",
    "    result = 0\n",
    "    cut = 0\n",
    "    \n",
    "    while(stack):\n",
    "        if method == \"DFS\":\n",
    "            c_node = stack.pop()\n",
    "        else:\n",
    "            c_node = stack.popleft()\n",
    "\n",
    "        for n_node in G[c_node]:\n",
    "            if node_result[c_node] + node_score[n_node] > node_result[n_node]:\n",
    "                node_result[n_node] = node_result[c_node] + node_score[n_node]\n",
    "                if (node_result[n_node] + (N - 1 - to_layer(n_node)) * 10) > result:\n",
    "                    stack.append(n_node)\n",
    "                    result = max(result, node_result[n_node])\n",
    "                else:\n",
    "                    cut = cut + 1\n",
    "    \n",
    "    #print(cut)\n",
    "    return result, time.time() - start"
   ]
  },
  {
   "cell_type": "markdown",
   "metadata": {},
   "source": [
    "## ダイクストラ"
   ]
  },
  {
   "cell_type": "code",
<<<<<<< HEAD
   "execution_count": 6,
=======
   "execution_count": 18,
>>>>>>> 66951a6707dd20981cce799ea5ee95b8af581f1e
   "metadata": {},
   "outputs": [],
   "source": [
    "def Dijkstra(G):\n",
    "    start = time.time()\n",
    "\n",
    "    # 各nodeの結果を記録する\n",
    "    node_result = {i : -1 for i in range(len(G))}\n",
    "\n",
    "    # heapに最初のnodeを追加\n",
    "    hp = []\n",
    "    node_result[0] = node_score[0]\n",
    "    heappush(hp, (-node_result[0], 0))\n",
    "    \n",
    "    result = 0\n",
    "    while(hp):\n",
    "        # ヒープからノードを取り出し、\n",
    "        c_node = heappop(hp)[1]\n",
    "        \n",
    "        for n_node in G[c_node]:\n",
    "            # 取り出したノードが向かう先のノードについて、緩和を行う\n",
    "            if node_result[c_node] + node_score[n_node] > node_result[n_node]:\n",
    "                node_result[n_node] = node_result[c_node] + node_score[n_node]\n",
    "                result = max(result, node_result[n_node])\n",
    "                heappush(hp, (-node_result[n_node], n_node))\n",
    "\n",
    "    return result, time.time() - start"
   ]
  },
  {
   "cell_type": "markdown",
   "metadata": {},
   "source": [
    "## ダイクストラに枝刈りを加える"
   ]
  },
  {
   "cell_type": "code",
<<<<<<< HEAD
   "execution_count": 7,
=======
   "execution_count": 19,
>>>>>>> 66951a6707dd20981cce799ea5ee95b8af581f1e
   "metadata": {},
   "outputs": [],
   "source": [
    "def Dijkstra_cut(G):\n",
    "    start = time.time()\n",
    "\n",
    "    # 各nodeの結果を記録する\n",
    "    node_result = {i : -1 for i in range(len(G))}\n",
    "\n",
    "    # heapに最初のnodeを追加\n",
    "    hp = []\n",
    "    node_result[0] = node_score[0]\n",
    "    heappush(hp, (-node_result[0], 0))\n",
    "    \n",
    "    result = 0\n",
    "    cut = 0 # 枝狩りの回数カウント用\n",
    "    while(hp):\n",
    "        # ヒープからノードを取り出し、\n",
    "        c_node = heappop(hp)[1]\n",
    "        \n",
    "        for n_node in G[c_node]:\n",
    "            if node_result[c_node] + node_score[n_node] > node_result[n_node]:\n",
    "                # 取り出したノードが向かう先のノードについて、緩和を行う\n",
    "                node_result[n_node] = node_result[c_node] + node_score[n_node]\n",
    "                \n",
    "                # 枝狩りできるかどうか確認して、枝狩できなければ、ヒープに入れる\n",
    "                if (node_result[n_node] + (N - 1 - to_layer(n_node)) * 10) > result:\n",
    "                    result = max(result, node_result[n_node])\n",
    "                    heappush(hp, (-node_result[n_node], n_node))\n",
    "                else:\n",
    "                    cut = cut + 1\n",
    "    #print(cut)\n",
    "    return result, time.time() - start"
   ]
  },
  {
   "cell_type": "markdown",
   "metadata": {},
   "source": [
    "## 貪欲法も実装してみる\n",
    "問題設定からは明らかだけど、最適解は貪欲法では求められない。"
   ]
  },
  {
   "cell_type": "code",
<<<<<<< HEAD
   "execution_count": 8,
=======
   "execution_count": 20,
>>>>>>> 66951a6707dd20981cce799ea5ee95b8af581f1e
   "metadata": {},
   "outputs": [],
   "source": [
    "def Greeding(G):\n",
    "# nodeの総数\n",
    "    start = time.time()\n",
    "\n",
    "    # stackに最初のnodeを追加\n",
    "    stack = deque([0])\n",
    "    score = 0\n",
    "\n",
    "    while(stack):\n",
    "        c_node = stack.pop()\n",
    "        score = score + node_score[c_node]\n",
    "        \n",
    "        connected_node = G[c_node]\n",
    "        if connected_node:\n",
    "            # まどろっこしいが、一般の有向グラフに適用できるように書いておく\n",
    "            next_scores = [node_score[x] for x in connected_node]\n",
    "            max_score = max(next_scores)\n",
    "            n_node = G[c_node][next_scores.index(max_score)]\n",
    "            stack.append(n_node)\n",
    "        \n",
    "    result = score\n",
    "    return result, time.time() - start"
   ]
  },
  {
   "cell_type": "markdown",
   "metadata": {},
   "source": [
    "## 実行速度を計測してみる\n",
    "全探索は遅くて邪魔なので、コメントアウトしている。"
   ]
  },
  {
   "cell_type": "code",
<<<<<<< HEAD
   "execution_count": 17,
=======
   "execution_count": 23,
>>>>>>> 66951a6707dd20981cce799ea5ee95b8af581f1e
   "metadata": {},
   "outputs": [],
   "source": [
    "# 階層数\n",
    "stairs = 50\n",
    "\n",
    "# それぞれの階層数で、何個のグラフを試してみるか、その個数\n",
<<<<<<< HEAD
    "roup = 100\n",
=======
    "roup = 1000\n",
>>>>>>> 66951a6707dd20981cce799ea5ee95b8af581f1e
    "\n",
    "elapsed_time = {}\n",
    "\n",
    "#algorithms = [\"all_search\", \"DP_DFS\", \"DP_BFS\", \"DP_DFS_cut\", \"DP_BFS_cut\", \"Dijkstra\", \"Dijkstra_cut\"]\n",
    "algorithms = [\"DP_DFS\", \"DP_BFS\", \"DP_DFS_cut\", \"DP_BFS_cut\", \"Dijkstra\", \"Dijkstra_cut\"]\n",
    "\n",
    "for algorithm in algorithms:\n",
    "    elapsed_time[algorithm] = []\n",
    "\n",
    "for N in range(1, stairs):\n",
    "    #s_all_search = 0\n",
    "    s_DP_DFS = 0\n",
    "    s_DP_BFS = 0\n",
    "    s_DP_DFS_cut = 0\n",
    "    s_DP_BFS_cut = 0\n",
    "    s_Dijkstra = 0\n",
    "    s_Dijkstra_cut = 0\n",
    "    \n",
    "    start = time.time()\n",
    "    for _ in range(roup):\n",
    "        G, node_score = my_graph(N)\n",
    "        \n",
    "        # 所要時間を足していく\n",
    "        #s_all_search = s_all_search + all_search(G, N)[1]\n",
    "        s_DP_DFS = s_DP_DFS + DP(G)[1]\n",
    "        s_DP_BFS = s_DP_BFS + DP(G, method=\"BFS\")[1]\n",
    "        s_DP_DFS_cut = s_DP_DFS_cut + DP_cut(G)[1]\n",
    "        s_DP_BFS_cut = s_DP_BFS_cut + DP_cut(G, method=\"BFS\")[1]\n",
    "        s_Dijkstra = s_Dijkstra + Dijkstra(G)[1]\n",
    "        s_Dijkstra_cut = s_Dijkstra_cut + Dijkstra_cut(G)[1]\n",
    "\n",
    "    \n",
    "    # 平均処理時間を算出し、log10を取る\n",
    "    #elapsed_time[\"all_search\"].append(s_all_search / roup)\n",
    "    elapsed_time[\"DP_DFS\"].append(s_DP_DFS / roup)\n",
    "    elapsed_time[\"DP_BFS\"].append(s_DP_BFS / roup)\n",
    "    elapsed_time[\"DP_DFS_cut\"].append(s_DP_DFS_cut / roup)\n",
    "    elapsed_time[\"DP_BFS_cut\"].append(s_DP_BFS_cut / roup)\n",
    "    elapsed_time[\"Dijkstra\"].append(s_Dijkstra / roup)\n",
    "    elapsed_time[\"Dijkstra_cut\"].append(s_Dijkstra_cut / roup)\n",
    "\n",
<<<<<<< HEAD
    "    #print(N, time.time() - start)"
=======
    "    # print(N, time.time() - start)"
>>>>>>> 66951a6707dd20981cce799ea5ee95b8af581f1e
   ]
  },
  {
   "cell_type": "code",
<<<<<<< HEAD
   "execution_count": 18,
   "metadata": {},
   "outputs": [],
   "source": [
    "# 計算時間の表示\n",
    "import matplotlib.pyplot as plt\n",
    "%matplotlib inline\n",
    "\n",
    "df = pd.DataFrame(elapsed_time)\n",
    "\n",
    "plt.figure()\n",
    "plt.style.use(['default']) \n",
=======
   "execution_count": 24,
   "metadata": {},
   "outputs": [
    {
     "data": {
      "text/plain": [
       "<AxesSubplot:>"
      ]
     },
     "execution_count": 24,
     "metadata": {},
     "output_type": "execute_result"
    },
    {
     "data": {
      "image/png": "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\n",
      "text/plain": [
       "<Figure size 432x288 with 1 Axes>"
      ]
     },
     "metadata": {
      "needs_background": "light"
     },
     "output_type": "display_data"
    }
   ],
   "source": [
    "# 計算時間の表示\n",
    "df = pd.DataFrame(elapsed_time)\n",
>>>>>>> 66951a6707dd20981cce799ea5ee95b8af581f1e
    "df.applymap(math.sqrt).plot()"
   ]
  },
  {
   "cell_type": "markdown",
   "metadata": {},
   "source": [
    "## メモ：ヒープ（優先度付きキュー）の復習"
   ]
  },
  {
   "cell_type": "code",
<<<<<<< HEAD
   "execution_count": null,
=======
   "execution_count": 4,
>>>>>>> 66951a6707dd20981cce799ea5ee95b8af581f1e
   "metadata": {},
   "outputs": [],
   "source": [
    "from heapq import heappop, heappush\n",
<<<<<<< HEAD
    "\n",
    "# ヒープに格納\n",
=======
>>>>>>> 66951a6707dd20981cce799ea5ee95b8af581f1e
    "hp = []\n",
    "heappush(hp, (1, 5))\n",
    "heappush(hp, (2, 4))\n",
    "heappush(hp, (3, 3))\n",
    "heappush(hp, (4, 2))\n",
    "heappush(hp, (5, 1))"
   ]
  },
  {
   "cell_type": "code",
<<<<<<< HEAD
   "execution_count": null,
   "metadata": {},
   "outputs": [],
   "source": [
    "# 取り出してみる\n",
=======
   "execution_count": 11,
   "metadata": {},
   "outputs": [
    {
     "name": "stdout",
     "output_type": "stream",
     "text": [
      "hp is empty\n"
     ]
    }
   ],
   "source": [
>>>>>>> 66951a6707dd20981cce799ea5ee95b8af581f1e
    "if hp:\n",
    "    y = heappop(hp)\n",
    "    print(y)\n",
    "else:\n",
    "    print(\"hp is empty\")"
   ]
  }
 ],
 "metadata": {
  "kernelspec": {
   "display_name": "Python 3",
   "language": "python",
   "name": "python3"
  },
  "language_info": {
   "codemirror_mode": {
    "name": "ipython",
    "version": 3
   },
   "file_extension": ".py",
   "mimetype": "text/x-python",
   "name": "python",
   "nbconvert_exporter": "python",
   "pygments_lexer": "ipython3",
   "version": "3.8.5"
  }
 },
 "nbformat": 4,
 "nbformat_minor": 4
}
