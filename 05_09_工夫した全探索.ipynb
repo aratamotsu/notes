{
  "nbformat": 4,
  "nbformat_minor": 0,
  "metadata": {
    "kernelspec": {
      "display_name": "Python 3",
      "language": "python",
      "name": "python3"
    },
    "language_info": {
      "codemirror_mode": {
        "name": "ipython",
        "version": 3
      },
      "file_extension": ".py",
      "mimetype": "text/x-python",
      "name": "python",
      "nbconvert_exporter": "python",
      "pygments_lexer": "ipython3",
      "version": "3.8.5"
    },
    "colab": {
      "name": "05-09_工夫した全探索.ipynb",
      "provenance": [],
      "include_colab_link": true
    }
  },
  "cells": [
    {
      "cell_type": "markdown",
      "metadata": {
        "id": "view-in-github",
        "colab_type": "text"
      },
      "source": [
        "<a href=\"https://colab.research.google.com/github/aratamotsu/notes/blob/main/05_09_%E5%B7%A5%E5%A4%AB%E3%81%97%E3%81%9F%E5%85%A8%E6%8E%A2%E7%B4%A2.ipynb\" target=\"_parent\"><img src=\"https://colab.research.google.com/assets/colab-badge.svg\" alt=\"Open In Colab\"/></a>"
      ]
    },
    {
      "cell_type": "code",
      "metadata": {
        "id": "T5Y_Z6EDkLpM"
      },
      "source": [
        "from io import StringIO\n",
        "import time\n",
        "import sys"
      ],
      "execution_count": null,
      "outputs": []
    },
    {
      "cell_type": "markdown",
      "metadata": {
        "id": "Yn_z3t2RkLpO"
      },
      "source": [
        "## 5. ABC 095 C - Half and Half\n",
        "問題は[ここ](https://atcoder.jp/contests/abc095/tasks/arc096_a)\n",
        "\n",
        "### 考えたこと\n",
        "問題を最適化問題のように書き下してみる。ABピザの枚数が決まれば、最低限購入しなければならないAピザ、Bピザの枚数が決まるので、ABピザの枚数を条件内で総当たり。ABピザは、偶数枚ないと役に立たないので、数字を若干置き換える。"
      ]
    },
    {
      "cell_type": "code",
      "metadata": {
        "id": "ERAcebBIkLpP",
        "outputId": "2342a93a-b284-43ab-ae5f-47048fa8ef17"
      },
      "source": [
        "_INPUT = \"\"\"\\\n",
        "1500 2000 1600 3 2\n",
        "\"\"\"\n",
        "sys.stdin = StringIO(_INPUT)\n",
        "start_time = time.time()\n",
        "# ------------- ココカラ提出 -------------\n",
        "import sys\n",
        "\n",
        "A, B, C, X, Y = map(int, sys.stdin.readline().split())\n",
        "\n",
        "N = max(X, Y)\n",
        "\n",
        "# 価格を初期化\n",
        "res = 2**31\n",
        "\n",
        "for z in range(N+1):\n",
        "    # ABピザの枚数から、Aピザ、Bピザの枚数が決まる\n",
        "    x = max(0, X - z)\n",
        "    y = max(0, Y - z)\n",
        "    \n",
        "    # 最小の価格を保存しておく。\n",
        "    res = min(res, A*x + B*y + 2*C*z)\n",
        "    \n",
        "print(res)\n",
        "\n",
        "# ------------- ココマデ提出 -------------\n",
        "elapsed_time = round(1000 * (time.time() - start_time), 3)\n",
        "print(\"実行時間: {}ms\".format(elapsed_time))"
      ],
      "execution_count": null,
      "outputs": [
        {
          "output_type": "stream",
          "text": [
            "7900\n",
            "実行時間: 0.732ms\n"
          ],
          "name": "stdout"
        }
      ]
    },
    {
      "cell_type": "markdown",
      "metadata": {
        "id": "RgQk6xEWkLpQ"
      },
      "source": [
        "## 6. 三井住友信託銀行プログラミングコンテスト 2019 D - Lucky PIN\n",
        "問題は[ここ](https://atcoder.jp/contests/sumitrust2019/tasks/sumitb2019_d)\n",
        "\n",
        "### 考えたこと\n",
        "$N$個のうち3個を選ぶなんてことをやっていると間に合わない。DPが使えそうな気がするが、実装が面倒そうなので別の手を考える。3桁目を決めたら、残りの2桁が何通り作り得るかというのを、全てのとり得る3桁目の数字について、数えてやれば早そう。\n",
        "\n",
        "具体的には、「1351245」という数字だった場合、まず最初に、「1」を取ると、残りの「351245」で2桁の数字を作ることになる。3桁目が「1」となる場合の数は、この残りの残りの「351245」で2桁の数字を作る場合の数に等しい。4桁目の1を3桁目にすると、残りの「245」で2桁の数字を作ることになり、少なくなってしまう。\n",
        "\n",
        "1を辞書にでも格納しておいて、次に「3」が3桁目になると考えて、残りの「51245」で2桁の数字を作ることを考える。これを繰り返せば、3桁目の数に応じて、それぞれ作ることのできる数の個数が求まる。\n",
        "\n",
        "同じように、2桁目についても、左から数字をとって、残りの数字のうち0~9までの数字が何個残されているかを計算してあげることで、何通りの数を作ることができるかが計算できる。これで約$100 \\times N$回調べることになる。"
      ]
    },
    {
      "cell_type": "code",
      "metadata": {
        "id": "syZOYdCKkLpQ",
        "outputId": "16a4e4e8-6ff6-431e-aa7f-61fa079cdf3e"
      },
      "source": [
        "_INPUT = \"\"\"\\\n",
        "4\n",
        "0224\n",
        "\"\"\"\n",
        "sys.stdin = StringIO(_INPUT)\n",
        "start_time = time.time()\n",
        "# ------------- ココカラ提出 -------------\n",
        "import sys\n",
        "\n",
        "N = int(sys.stdin.readline().strip())\n",
        "S = str(sys.stdin.readline().strip())\n",
        "\n",
        "keta3 = {}\n",
        "for i in range(N):\n",
        "    if S[i] not in keta3.keys():\n",
        "        # 3桁目の文字として初めて出現したら、残り2桁で作れる数を計算し辞書へ\n",
        "        keta2 = {}\n",
        "        for j in range(i+1, N):\n",
        "            if S[j] not in keta2.keys():\n",
        "                keta2[S[j]] = sum([str(k) in S[j+1:N] for k in range(10)])\n",
        "        \n",
        "        keta3[S[i]] = sum(keta2.values())\n",
        "    \n",
        "print(sum(keta3.values()))\n",
        "\n",
        "# ------------- ココマデ提出 -------------\n",
        "elapsed_time = int(1000 * (time.time() - start_time))\n",
        "print(\"実行時間: {}ms\".format(elapsed_time))"
      ],
      "execution_count": null,
      "outputs": [
        {
          "output_type": "stream",
          "text": [
            "3\n",
            "実行時間: 1ms\n"
          ],
          "name": "stdout"
        }
      ]
    },
    {
      "cell_type": "markdown",
      "metadata": {
        "id": "rbE4ZU6wkLpR"
      },
      "source": [
        "## 7. JOI 2007 本選 3 - 最古の遺跡\n",
        "問題は[ここ](https://atcoder.jp/contests/joi2007ho/tasks/joi2007ho_c)\n",
        "\n",
        "### 考えたこと\n",
        "愚直に解くと$N^{3}$が必要になって間に合わなさそうな感じだが、改善する方法が思いつかん..."
      ]
    },
    {
      "cell_type": "code",
      "metadata": {
        "id": "Gj7cNVk-kLpS",
        "outputId": "bdf0fa22-e03d-45cc-ab61-e2f85a20edc8"
      },
      "source": [
        "_INPUT = \"\"\"\\\n",
        "10\n",
        "9 4\n",
        "4 3\n",
        "1 1\n",
        "4 2\n",
        "2 4\n",
        "5 8\n",
        "4 0\n",
        "5 3\n",
        "0 5\n",
        "5 2\n",
        "\"\"\"\n",
        "sys.stdin = StringIO(_INPUT)\n",
        "start_time = time.time()\n",
        "# ------------- ココカラ提出 -------------\n",
        "import sys\n",
        "\n",
        "N = int(sys.stdin.readline().strip())\n",
        "xy = [map(int, sys.stdin.readline().split()) for _ in range(N)]\n",
        "x, y = [list(i) for i in zip(*xy)]\n",
        "xy_set = set(list(zip(x, y)))\n",
        "\n",
        "area = 0\n",
        "for i in range(N):\n",
        "    for j in range(i+1, N):\n",
        "        x1,y1 = x[i], y[i]\n",
        "        x2,y2 = x[j], y[j]\n",
        "        dx, dy = x2-x1, y2-y1\n",
        "        \n",
        "        if ((x1+dy, y1-dx) in xy_set) & ((x2+dy, y2-dx) in xy_set):\n",
        "            area = max(area, dx**2 + dy**2)\n",
        "        \n",
        "print(area)\n",
        "\n",
        "# ------------- ココマデ提出 -------------\n",
        "elapsed_time = int(1000 * (time.time() - start_time))\n",
        "print(\"実行時間: {}ms\".format(elapsed_time))"
      ],
      "execution_count": null,
      "outputs": [
        {
          "output_type": "stream",
          "text": [
            "10\n",
            "実行時間: 1ms\n"
          ],
          "name": "stdout"
        }
      ]
    },
    {
      "cell_type": "markdown",
      "metadata": {
        "id": "e4jU3nxFkLpS"
      },
      "source": [
        "### 解いてみて\n",
        "正方形の3,4個目の頂点の確認をsetで実装すれば、いくらかは早くなる。もっと上手い解法があるのかと思ったら、解き方自体はそのまんまで若干拍子抜けした。やはり（探索の実装を工夫する以外には）愚直に実装するしかないよね。上記のコードもギリギリ通ったし、何度もTLEして恥ずかしかった。"
      ]
    },
    {
      "cell_type": "markdown",
      "metadata": {
        "id": "ryVC2xFdkLpT"
      },
      "source": [
        "## 8. Square869120Contest #6 B - AtCoder Markets\n",
        "問題は[ここ](https://atcoder.jp/contests/s8pc-6/tasks/s8pc_6_b)\n",
        "\n",
        "### 考えたこと\n",
        "厳密に証明とかを考えようとすると面倒ではあるけれど、なんとなくの予想が通用する感じ。$A_{i} \\leq B_{i}$なので入口は$\\{A_{i}\\}$近く、出口は$\\{B_{i}\\}$の近くになりそう。そして、たどるルートは、全ての$i$に対して、入口 $\\rightarrow A_{i} \\rightarrow B_{i} \\rightarrow $ 出口というルートで問題なさそう。この場合、考えるべき距離は$|I - A_{i}| + |A_{i} - B_{i}| + |B_{i} - O|$となり、入口と$\\{A_{i}\\}$、出口と$\\{B_{i}\\}$との関係をそれぞれ独立に考えればいい。\n",
        "\n",
        "まず、$N=1$を考えると、入口は$A_{0}$、出口は$B_{0}$と同じ位置が最短となる。\n",
        "\n",
        "次に$N=2$の場合、$A_{1} < A_{2}$と仮定して、$I < A_{1}$や$A_{2} < I$の場合は、それぞれ$I$を$A_{1}$、$A_{2}$に近づけることで、距離を小さくできる。実際、$A_{1} \\leq I \\leq A_{2}$であればいい。出口についても同様。\n",
        "\n",
        "$N=3$の場合、$A_{1} < A_{3} < A_{2}$と仮定すると、$A_{1} \\leq I \\leq A_{2}$の中で、$I = A_{3}$とすればいい。\n",
        "\n",
        "一般化していくと、入口と出口は、それぞれ$\\{A_{i}\\}$と$\\{B_{i}\\}$の中央値とすればよい。$\\{A_{i}\\}$と$\\{B_{i}\\}$をソートして添字を$0$から付け直したとして、\n",
        "- $N$が奇数の場合、入口: $A_{(N-1)/2}$、出口: $B_{(N-1)/2}$\n",
        "- $N$が偶数の場合、入口; $A_{N/2}$、出口: $B_{N/2}$\n",
        "と選べばよい。"
      ]
    },
    {
      "cell_type": "code",
      "metadata": {
        "id": "Pj1-cOIZkLpT",
        "outputId": "517d2fc8-3948-4e54-fb1c-0e1aa1759737"
      },
      "source": [
        "from io import StringIO\n",
        "import time\n",
        "import sys\n",
        "\n",
        "_INPUT = \"\"\"\\\n",
        "3\n",
        "5 7\n",
        "2 6\n",
        "8 10\n",
        "\"\"\"\n",
        "sys.stdin = StringIO(_INPUT)\n",
        "start_time = time.time()\n",
        "# ------------- ココカラ提出 -------------\n",
        "import sys\n",
        "\n",
        "n = int(sys.stdin.readline().strip())\n",
        "ab = [map(int, sys.stdin.readline().split()) for _ in range(n)]\n",
        "a, b = [list(i) for i in zip(*ab)]\n",
        "\n",
        "a.sort()\n",
        "b.sort()\n",
        "start = a[int(n/2)]\n",
        "end = b[int(n/2)]\n",
        "dist = 0\n",
        "for i in range(n):\n",
        "    dist += abs(start-a[i])+abs(a[i]-b[i])+abs(end-b[i])\n",
        "\n",
        "print(dist)\n",
        "\n",
        "# ------------- ココマデ提出 -------------\n",
        "elapsed_time = round(1000 * (time.time() - start_time), 3)\n",
        "print(\"実行時間: {}ms\".format(elapsed_time))"
      ],
      "execution_count": null,
      "outputs": [
        {
          "output_type": "stream",
          "text": [
            "18\n",
            "実行時間: 1.155ms\n"
          ],
          "name": "stdout"
        }
      ]
    },
    {
      "cell_type": "markdown",
      "metadata": {
        "id": "SA2324_9kLpU"
      },
      "source": [
        "## JOI 2008 予選 4 - 星座探し\n",
        "問題は[ここ](https://atcoder.jp/contests/joi2008yo/tasks/joi2008yo_d)\n",
        "\n",
        "### 考えたこと\n",
        "星座からひとつ点をとって、写真に含まれている点$i$と座標を合わせる。その移動を星座の他の点$j$にも行って、他の点全てが写真に含まれていればその移動を返して終了。星座の中から一つ点を選んで固定して考えるのことができればスッキリする。"
      ]
    },
    {
      "cell_type": "code",
      "metadata": {
        "id": "DfpfQj7SkLpU",
        "outputId": "32916812-02f5-4ad0-82eb-0316e4c15ca0"
      },
      "source": [
        "_INPUT = \"\"\"\\\n",
        "5\n",
        "8 5\n",
        "6 4\n",
        "4 3\n",
        "7 10\n",
        "0 10\n",
        "10\n",
        "10 5\n",
        "2 7\n",
        "9 7\n",
        "8 10\n",
        "10 2\n",
        "1 2\n",
        "8 1\n",
        "6 7\n",
        "6 0\n",
        "0 9\n",
        "\"\"\"\n",
        "sys.stdin = StringIO(_INPUT)\n",
        "start_time = time.time()\n",
        "# ------------- ココカラ提出 -------------\n",
        "import sys\n",
        "\n",
        "n = int(sys.stdin.readline().strip())\n",
        "star = [tuple(map(int, sys.stdin.readline().split())) for _ in range(n)]\n",
        "m = int(sys.stdin.readline().strip())\n",
        "pic = [tuple(map(int, sys.stdin.readline().split())) for _ in range(m)]\n",
        "set_pic = set(pic)\n",
        "\n",
        "x0, y0 = star[0]\n",
        "\n",
        "for i in range(m):\n",
        "    dx, dy = tuple([a-b for a,b in zip(pic[i], (x0, y0))])\n",
        "    \n",
        "    if all((star[j][0] + dx, star[j][1] + dy) in set_pic for j in range(1, n)):\n",
        "        print(dx, dy)\n",
        "\n",
        "# ------------- ココマデ提出 -------------\n",
        "elapsed_time = round(1000 * (time.time() - start_time), 3)\n",
        "print(\"実行時間: {}ms\".format(elapsed_time))"
      ],
      "execution_count": null,
      "outputs": [
        {
          "output_type": "stream",
          "text": [
            "2 -3\n",
            "実行時間: 0.881ms\n"
          ],
          "name": "stdout"
        }
      ]
    }
  ]
}