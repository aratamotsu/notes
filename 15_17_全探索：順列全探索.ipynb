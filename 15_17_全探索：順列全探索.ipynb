{
  "nbformat": 4,
  "nbformat_minor": 0,
  "metadata": {
    "kernelspec": {
      "display_name": "Python 3",
      "language": "python",
      "name": "python3"
    },
    "language_info": {
      "codemirror_mode": {
        "name": "ipython",
        "version": 3
      },
      "file_extension": ".py",
      "mimetype": "text/x-python",
      "name": "python",
      "nbconvert_exporter": "python",
      "pygments_lexer": "ipython3",
      "version": "3.8.5"
    },
    "colab": {
      "name": "15-17_全探索：順列全探索.ipynb",
      "provenance": []
    }
  },
  "cells": [
    {
      "cell_type": "markdown",
      "metadata": {
        "id": "xHU3eA3_OCOX"
      },
      "source": [
        "# 全探索：順列全探索"
      ]
    },
    {
      "cell_type": "code",
      "metadata": {
        "id": "2z0HcE7vOCOb"
      },
      "source": [
        "from io import StringIO\n",
        "import time\n",
        "import sys"
      ],
      "execution_count": null,
      "outputs": []
    },
    {
      "cell_type": "markdown",
      "metadata": {
        "id": "70WeKKXCOCOd"
      },
      "source": [
        "## 15. ABC 145 C - Average Length\n",
        "問題は[ここ](https://atcoder.jp/contests/abc145/tasks/abc145_c)\n",
        "\n",
        "### 考えたこと\n",
        "全ての順列に対して、距離を足し上げて平均を取るだけ？数値誤差は問題ないだろうか。\n"
      ]
    },
    {
      "cell_type": "code",
      "metadata": {
        "id": "6d8v-NHmOCOe",
        "outputId": "b4e83b16-d6e2-4db7-ad02-d212f7c0eba2"
      },
      "source": [
        "_INPUT = \"\"\"\\\n",
        "8\n",
        "-406 10\n",
        "512 859\n",
        "494 362\n",
        "-955 -475\n",
        "128 553\n",
        "-986 -885\n",
        "763 77\n",
        "449 310\n",
        "\"\"\"\n",
        "sys.stdin = StringIO(_INPUT)\n",
        "start_time = time.time()\n",
        "# ------------- ココカラ提出 -------------\n",
        "import sys\n",
        "from itertools import permutations\n",
        "\n",
        "N = int(sys.stdin.readline().strip())\n",
        "xy = [map(int, sys.stdin.readline().split()) for _ in range(N)]\n",
        "x, y = [tuple(i) for i in zip(*xy)]\n",
        "\n",
        "# 2次元ベクトルのユークリッドノルムを計算する関数\n",
        "def eu_dist(a, b):\n",
        "    from math import sqrt\n",
        "    return sqrt((a[0]-b[0])**2 + (a[1]-b[1])**2)\n",
        "\n",
        "lis = list(permutations(list(range(N))))\n",
        "\n",
        "total_dist = 0\n",
        "for order in lis:\n",
        "    for i in range(N-1):\n",
        "        total_dist += eu_dist((x[order[i]],y[order[i]]), (x[order[i+1]], y[order[i+1]]))\n",
        "        \n",
        "mean_dist = total_dist / len(lis)\n",
        "\n",
        "print(mean_dist)\n",
        "\n",
        "# ------------- ココマデ提出 -------------\n",
        "elapsed_time = round(1000 * (time.time() - start_time), 3)\n",
        "print(\"実行時間: {}ms\".format(elapsed_time))"
      ],
      "execution_count": null,
      "outputs": [
        {
          "output_type": "stream",
          "text": [
            "7641.981782440798\n",
            "実行時間: 454.943ms\n"
          ],
          "name": "stdout"
        }
      ]
    },
    {
      "cell_type": "markdown",
      "metadata": {
        "id": "RCGMlG7EOCOg"
      },
      "source": [
        "### 解いたあと\n",
        "実際のところ、問題の対称性から__全ての経路の平均 = 2つ町の距離の平均\\*なんか$N$に依存する数__になりそう。$N$に依存する数を求めたい。\n",
        "\n",
        "全ての経路は$N!$あって、そのうち、ある2つの町を連続して通る経路は$N-1!$になっている。2つの町にも順序があるので、ある2つの町のを繋ぐ経路が出現するのは$2 \\times (N-1)!$となる。よって、なんか$N$に依存する数=$N! / (2 \\times (N-1)!) = N/2$とすればいい。これなら計算量は$O(N^2)$なので断然早い。"
      ]
    },
    {
      "cell_type": "markdown",
      "metadata": {
        "id": "kAZzUFh1OCOg"
      },
      "source": [
        "## 16. ABC 150 C - Count Order\n",
        "問題は[ここ](https://atcoder.jp/contests/abc150/tasks/abc150_c)\n",
        "\n",
        "### 考えたこと\n",
        "一瞬$N$桁の$N$進数における、2つの数値の差を出すのかとおもったが、順列は数字を重複して作ることはできないので、違った。順列の作り方が重複を許すのであれば、また違った解き方ができそう。順列を作って二分探索といったところでしょうか。"
      ]
    },
    {
      "cell_type": "code",
      "metadata": {
        "id": "8A1AHps5OCOh",
        "outputId": "ec0b2efb-924a-49d5-91df-e1289bc5c4ed"
      },
      "source": [
        "_INPUT = \"\"\"\\\n",
        "8\n",
        "7 3 5 4 2 1 6 8\n",
        "3 8 2 5 4 6 7 1\n",
        "\"\"\"\n",
        "sys.stdin = StringIO(_INPUT)\n",
        "start_time = time.time()\n",
        "# ------------- ココカラ提出 -------------\n",
        "import sys\n",
        "import bisect \n",
        "from itertools import permutations\n",
        "\n",
        "N = int(sys.stdin.readline().strip())\n",
        "a = list(map(int, sys.stdin.readline().split()))\n",
        "b = list(map(int, sys.stdin.readline().split()))\n",
        "\n",
        "def make10digit(nums):\n",
        "    num = 0\n",
        "    for i in range(len(nums)-1, -1, -1):\n",
        "        num += 10**(len(nums)-1-i) * nums[i]\n",
        "    return num\n",
        "    \n",
        "def lis2int(lis):\n",
        "    new_list = []\n",
        "    for nums in lis:\n",
        "        new_list.append(make10digit(nums))\n",
        "    return new_list\n",
        "    \n",
        "lis = list(permutations(list(range(1, N+1))))\n",
        "\n",
        "# 整数に変換する\n",
        "lis_int = lis2int(lis)\n",
        "a_int = make10digit(a)\n",
        "b_int = make10digit(b)\n",
        "\n",
        "# 二分探索する\n",
        "a_index = (bisect.bisect_left(lis_int, a_int))\n",
        "b_index = (bisect.bisect_left(lis_int, b_int))\n",
        "\n",
        "print(abs(b_index-a_index))\n",
        "\n",
        "# ------------- ココマデ提出 -------------\n",
        "elapsed_time = round(1000 * (time.time() - start_time), 3)\n",
        "print(\"実行時間: {}ms\".format(elapsed_time))"
      ],
      "execution_count": null,
      "outputs": [
        {
          "output_type": "stream",
          "text": [
            "17517\n",
            "実行時間: 140.505ms\n"
          ],
          "name": "stdout"
        }
      ]
    },
    {
      "cell_type": "markdown",
      "metadata": {
        "id": "ku_lrjIsOCOi"
      },
      "source": [
        "### 解いたあと\n",
        "`[1, 2, 3]`というリストから`123`という整数を生成してくれる関数で用意されたいないのかな。10進数を前提として、自分で書いたけど...まあ競プロとか意外での需要があるとはあまり多えないのだけどね。"
      ]
    },
    {
      "cell_type": "markdown",
      "metadata": {
        "id": "Y73IMQK2OCOi"
      },
      "source": [
        "## 17. ALDS_13_A - 8 クイーン問題\n",
        "問題は[ここ](http://judge.u-aizu.ac.jp/onlinejudge/description.jsp?id=ALDS1_13_A&lang=ja)\n",
        "\n",
        "### 考えたこと\n",
        "最初は血迷って再帰関数とかで実装できないかなと考えたのだけど、まあどう考えても最初に条件と与えられたクイーンの座標を使って探索範囲を狭めた方がやりやすいだろう。\n",
        "クイーンの動き方から、正解となる配置において、同じ$x$座標、$y$座標を持っているクイーンは存在しない。よって、すでに置かれているクイーンの$x$座標、$y$座標を除いた$x$座標, $y$座標の全てのペアについて、残りの斜めの条件を満たすかどうかを調べれば十分。"
      ]
    },
    {
      "cell_type": "code",
      "metadata": {
        "id": "Gc6IRp_COCOj",
        "outputId": "3a9a8481-e20c-4bbb-809f-16d37a356978"
      },
      "source": [
        "_INPUT = \"\"\"\\\n",
        "2\n",
        "2 2\n",
        "5 3\n",
        "\"\"\"\n",
        "sys.stdin = StringIO(_INPUT)\n",
        "start_time = time.time()\n",
        "# ------------- ココカラ提出 -------------\n",
        "import sys\n",
        "from itertools import permutations\n",
        "\n",
        "N = int(sys.stdin.readline().strip())\n",
        "xy = [map(int, sys.stdin.readline().split()) for _ in range(N)]\n",
        "x, y = [list(i) for i in zip(*xy)]\n",
        "\n",
        "# まだ配置されていない座標\n",
        "x_list = [i for i in range(8) if i not in x]\n",
        "y_list = [i for i in range(8) if i not in y]\n",
        "\n",
        "for orders in permutations(range(8-N)):\n",
        "    # コピーをとっておく\n",
        "    x_c = x.copy()\n",
        "    y_c = y.copy()\n",
        "    for i in range(len(orders)):\n",
        "        # 新たは配置を追加して８つのクイーンの座標を作成\n",
        "        x_c.append(x_list[i])\n",
        "        y_c.append(y_list[orders[i]])\n",
        "\n",
        "    # 斜めの条件を確かめる\n",
        "    xpy = [i+j for (i, j) in zip(x_c,y_c)]\n",
        "    xmy = [i-j for (i, j) in zip(x_c,y_c)]\n",
        "    \n",
        "    # 斜めの条件を満たさない場合、リストに重複が出るので、setとlengthが異なることを利用して確認\n",
        "    if (len(xpy) - len(set(xpy)) == 0) and (len(xmy)-len(set(xmy)) == 0):\n",
        "        # 条件を満たすものが見つかったら、ループから抜ける。\n",
        "        break\n",
        "        \n",
        "for i in range(8):\n",
        "    for j in range(8):\n",
        "        if (i, j) in set(zip(x_c, y_c)):\n",
        "            print(\"Q\", end=\"\")\n",
        "        else:\n",
        "            print(\".\", end=\"\")\n",
        "    # 各行で改行してあげる用  \n",
        "    print()\n",
        "\n",
        "# ------------- ココマデ提出 -------------\n",
        "elapsed_time = round(1000 * (time.time() - start_time), 3)\n",
        "print(\"実行時間: {}ms\".format(elapsed_time))"
      ],
      "execution_count": null,
      "outputs": [
        {
          "output_type": "stream",
          "text": [
            "......Q.\n",
            "Q.......\n",
            "..Q.....\n",
            ".......Q\n",
            ".....Q..\n",
            "...Q....\n",
            ".Q......\n",
            "....Q...\n",
            "実行時間: 9.294ms\n"
          ],
          "name": "stdout"
        }
      ]
    },
    {
      "cell_type": "markdown",
      "metadata": {
        "id": "R4Nl03p-OCOj"
      },
      "source": [
        "### 解いたあと\n",
        "残りのクイーンの配置のパターンを生成するときに、$x$座標を固定して、$y$座標をpermutationすればいいということに気がつくのにちょっと時間がかかってしまい、衰えを感じざるを得ない。\n",
        "\n",
        "疑問に思ったのは。一般の$N$-クイーン問題は解を持つのだろうか。$N=1$のときは解あり。$N=2$のときは解なし。$N=3$のときは解なし。一般の$N$において解があれば、一つ見つけて、解がなければ、ないと教えてくれるコードに書き換えてみよう。"
      ]
    },
    {
      "cell_type": "code",
      "metadata": {
        "id": "JL4XAs3sOCOj",
        "outputId": "6ca6f153-6c0c-4632-b418-97cb5122f19d"
      },
      "source": [
        "def Queen(N):\n",
        "    from itertools import permutations\n",
        "    for orders in permutations(range(N)):\n",
        "        x = list(range(N))\n",
        "        y = list(orders)\n",
        "\n",
        "        # 斜めの条件を確かめる\n",
        "        xpy = [i+j for (i, j) in zip(x,y)]\n",
        "        xmy = [i-j for (i, j) in zip(x,y)]\n",
        "\n",
        "        # 斜めの条件を満たさない場合、リストに重複が出るので、setとlengthが異なることを利用して確認\n",
        "        if (len(xpy) - len(set(xpy)) == 0) and (len(xmy)-len(set(xmy)) == 0):\n",
        "            # 条件を満たすものが見つかったら、プリントしてreturn\n",
        "            for i in range(N):\n",
        "                for j in range(N):\n",
        "                    if (i, j) in set(zip(x, y)):\n",
        "                        print(\"Q\", end=\"\")\n",
        "                    else:\n",
        "                        print(\".\", end=\"\")\n",
        "                # 各行で改行してあげる用\n",
        "                print()\n",
        "\n",
        "            return\n",
        "    # 見つからなければ-1を返す\n",
        "    return -1\n",
        "\n",
        "N = 7\n",
        "Queen(N)"
      ],
      "execution_count": null,
      "outputs": [
        {
          "output_type": "stream",
          "text": [
            "Q......\n",
            "..Q....\n",
            "....Q..\n",
            "......Q\n",
            ".Q.....\n",
            "...Q...\n",
            ".....Q.\n"
          ],
          "name": "stdout"
        }
      ]
    },
    {
      "cell_type": "markdown",
      "metadata": {
        "id": "8ecrppPwOCOk"
      },
      "source": [
        "遅い...$N=12$まで確かめたところ。解を持たないのは、$N=2, 3$のみだった。解を持たないのは$N=2, 3$だけらしい。"
      ]
    }
  ]
}